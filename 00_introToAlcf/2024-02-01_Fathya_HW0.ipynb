{
 "cells": [
  {
   "cell_type": "markdown",
   "id": "b03f4563",
   "metadata": {},
   "source": [
    "# Test HW0"
   ]
  },
  {
   "cell_type": "code",
   "execution_count": 1,
   "id": "1e4d266f",
   "metadata": {},
   "outputs": [
    {
     "name": "stdout",
     "output_type": "stream",
     "text": [
      "Test for HW0\n"
     ]
    }
   ],
   "source": [
    "print('Test for HW0')"
   ]
  },
  {
   "cell_type": "code",
   "execution_count": null,
   "id": "aff2c5c5",
   "metadata": {},
   "outputs": [],
   "source": []
  }
 ],
 "metadata": {
  "kernelspec": {
   "display_name": "Python 3 (ipykernel)",
   "language": "python",
   "name": "python3"
  },
  "language_info": {
   "codemirror_mode": {
    "name": "ipython",
    "version": 3
   },
   "file_extension": ".py",
   "mimetype": "text/x-python",
   "name": "python",
   "nbconvert_exporter": "python",
   "pygments_lexer": "ipython3",
   "version": "3.9.13"
  }
 },
 "nbformat": 4,
 "nbformat_minor": 5
}
